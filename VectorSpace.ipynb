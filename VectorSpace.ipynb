{
  "nbformat": 4,
  "nbformat_minor": 0,
  "metadata": {
    "colab": {
      "provenance": [],
      "authorship_tag": "ABX9TyN4Pxr4LOvylFic4K3L0FDG",
      "include_colab_link": true
    },
    "kernelspec": {
      "name": "python3",
      "display_name": "Python 3"
    },
    "language_info": {
      "name": "python"
    }
  },
  "cells": [
    {
      "cell_type": "markdown",
      "metadata": {
        "id": "view-in-github",
        "colab_type": "text"
      },
      "source": [
        "<a href=\"https://colab.research.google.com/github/Sidplex/College/blob/main/VectorSpace.ipynb\" target=\"_parent\"><img src=\"https://colab.research.google.com/assets/colab-badge.svg\" alt=\"Open In Colab\"/></a>"
      ]
    },
    {
      "cell_type": "code",
      "source": [
        "import glob\n",
        "import math\n",
        "import re\n",
        "import sys\n",
        "import string\n",
        "import nltk\n",
        "nltk.download('punkt')\n",
        "nltk.download('stopwords')\n",
        "nltk.download('wordnet')\n",
        "nltk.download('omw-1.4')\n",
        "from collections import defaultdict\n",
        "from nltk.corpus import stopwords\n",
        "from nltk.tokenize import word_tokenize\n",
        "\n",
        "STOPWORDS = set(stopwords.words(\"english\"))\n",
        "document_filenames = dict()\n",
        "N = 0\n",
        "vocabulary = set()\n",
        "postings = defaultdict(dict)\n",
        "document_frequency = defaultdict(int)\n",
        "length = defaultdict(float)"
      ],
      "metadata": {
        "colab": {
          "base_uri": "https://localhost:8080/"
        },
        "id": "2ieIe6B8KeLE",
        "outputId": "654b8344-2c80-4842-cdcb-725ec29dec2a"
      },
      "execution_count": 128,
      "outputs": [
        {
          "output_type": "stream",
          "name": "stderr",
          "text": [
            "[nltk_data] Downloading package punkt to /root/nltk_data...\n",
            "[nltk_data]   Package punkt is already up-to-date!\n",
            "[nltk_data] Downloading package stopwords to /root/nltk_data...\n",
            "[nltk_data]   Package stopwords is already up-to-date!\n",
            "[nltk_data] Downloading package wordnet to /root/nltk_data...\n",
            "[nltk_data]   Package wordnet is already up-to-date!\n",
            "[nltk_data] Downloading package omw-1.4 to /root/nltk_data...\n",
            "[nltk_data]   Package omw-1.4 is already up-to-date!\n"
          ]
        }
      ]
    },
    {
      "cell_type": "code",
      "source": [
        "from  google.colab import drive\n",
        "drive.mount('/content/drive')"
      ],
      "metadata": {
        "colab": {
          "base_uri": "https://localhost:8080/"
        },
        "id": "N4ECKmMZMMVC",
        "outputId": "fcfb667d-6bef-446a-b28e-c28929073364"
      },
      "execution_count": 114,
      "outputs": [
        {
          "output_type": "stream",
          "name": "stdout",
          "text": [
            "Drive already mounted at /content/drive; to attempt to forcibly remount, call drive.mount(\"/content/drive\", force_remount=True).\n"
          ]
        }
      ]
    },
    {
      "cell_type": "code",
      "source": [
        "documents = glob.glob(\"/content/drive/MyDrive/Corpus2/*\")\n",
        "def readcorpus():\n",
        "    global document_filenames, N\n",
        "    N = len(documents)\n",
        "    document_filenames = dict(zip(range(N), documents))"
      ],
      "metadata": {
        "id": "2v7mTcJGKYJa"
      },
      "execution_count": 115,
      "outputs": []
    },
    {
      "cell_type": "code",
      "source": [
        "def tokenize(document):\n",
        "    terms = word_tokenize(document)\n",
        "    terms = [term.lower() for term in terms if term not in STOPWORDS]\n",
        "    return terms"
      ],
      "metadata": {
        "id": "SXQG9FGVKlZ0"
      },
      "execution_count": 117,
      "outputs": []
    },
    {
      "cell_type": "code",
      "source": [
        "def remove_punct(text):\n",
        "    text = \"\".join([char for char in text if char not in string.punctuation])\n",
        "    text = re.sub('[0-9]+', '', text)\n",
        "    return text"
      ],
      "metadata": {
        "id": "VK5NX10tK7nx"
      },
      "execution_count": 125,
      "outputs": []
    },
    {
      "cell_type": "code",
      "source": [
        "def remove_digits(text):\n",
        "    regex = re.compile(r\"\\d\")\n",
        "    return re.sub(regex, \"\", text)"
      ],
      "metadata": {
        "id": "VGqT0xMMK-P-"
      },
      "execution_count": 126,
      "outputs": []
    },
    {
      "cell_type": "code",
      "source": [
        "def terms_posting():\n",
        "    global vocabulary, postings\n",
        "    for id in document_filenames:\n",
        "        with open(document_filenames[id], \"r\") as f:\n",
        "            document = f.read()\n",
        "        document = remove_punct(document)\n",
        "        document = remove_digits(document)\n",
        "        terms = tokenize(document)\n",
        "        unique_terms = set(terms)\n",
        "        vocabulary = vocabulary.union(unique_terms)\n",
        "        for term in unique_terms:\n",
        "            postings[term][id] = terms.count(term)"
      ],
      "metadata": {
        "id": "w7_kDUPGKixZ"
      },
      "execution_count": 116,
      "outputs": []
    },
    {
      "cell_type": "code",
      "source": [
        "def document_frequencies():\n",
        "    global document_frequency\n",
        "    for term in vocabulary:\n",
        "        document_frequency[term] = len(postings[term])\n",
        "    # print(document_frequency)"
      ],
      "metadata": {
        "id": "xzw1GdVeKl6O"
      },
      "execution_count": 118,
      "outputs": []
    },
    {
      "cell_type": "code",
      "source": [
        "def document_lengths():\n",
        "    global length\n",
        "    for id in document_filenames:\n",
        "        l = 0\n",
        "        for term in vocabulary:\n",
        "            l += term_frequency(term, id) ** 2\n",
        "        length[id] = math.sqrt(l)\n",
        "    print(length)"
      ],
      "metadata": {
        "id": "IoHB6-eFKoxd"
      },
      "execution_count": 119,
      "outputs": []
    },
    {
      "cell_type": "code",
      "source": [
        "def term_frequency(term, id):\n",
        "    if id in postings[term]:\n",
        "        return postings[term][id]\n",
        "    else:\n",
        "        return 0.0"
      ],
      "metadata": {
        "id": "9o0mBotkKrZK"
      },
      "execution_count": 120,
      "outputs": []
    },
    {
      "cell_type": "code",
      "source": [
        "def inverse_document_frequency(term):\n",
        "    if term in vocabulary:\n",
        "        return math.log(N / document_frequency[term], 2)\n",
        "    else:\n",
        "        return 0.0"
      ],
      "metadata": {
        "id": "NXLoj-Z7Kt_O"
      },
      "execution_count": 121,
      "outputs": []
    },
    {
      "cell_type": "code",
      "source": [
        "def similarity(query, id):\n",
        "    similarity = 0.0\n",
        "    for term in query:\n",
        "        if term in vocabulary:\n",
        "            similarity += term_frequency(term, id) * inverse_document_frequency(term)\n",
        "    similarity = similarity / length[id]\n",
        "    return similarity"
      ],
      "metadata": {
        "id": "cFKUbVElK46b"
      },
      "execution_count": 124,
      "outputs": []
    },
    {
      "cell_type": "code",
      "source": [
        "def finalscores():\n",
        "    query = tokenize(\"Developing your Zomato business account and profile is a great way to boost your restaurant’s online reputation\")\n",
        "    scores = sorted(\n",
        "        [(id, similarity(query, id)) for id in range(N)],\n",
        "        key=lambda x: x[1],\n",
        "        reverse=True,\n",
        "    )\n",
        "    return scores"
      ],
      "metadata": {
        "id": "meaufrn-Kz60"
      },
      "execution_count": 123,
      "outputs": []
    },
    {
      "cell_type": "code",
      "source": [
        "def print_scores(scores):\n",
        "    print(\"-\" * 42)\n",
        "    print(\"| %s | %s |\" % (\"Score\", \"Document\"))\n",
        "    print(\"-\" * 42)\n",
        "    for (id, score) in scores:\n",
        "        if score != 0.0:\n",
        "            print(\"| %s | %s |\" % (str(score)[:5], document_filenames[id]))\n",
        "    print(\"-\" * 42, end=\"\\n\\n\")"
      ],
      "metadata": {
        "id": "etKWSlgjKwhi"
      },
      "execution_count": 122,
      "outputs": []
    },
    {
      "cell_type": "code",
      "source": [
        "def main():\n",
        "    readcorpus()\n",
        "    terms_posting()\n",
        "    document_frequencies()\n",
        "    document_lengths()\n",
        "    scores = finalscores()\n",
        "    print(terms_posting())\n",
        "    print(document_frequencies())\n",
        "    print(document_lengths())\n",
        "    # print_scores(scores)\n",
        "if __name__ == \"__main__\":\n",
        "    main()"
      ],
      "metadata": {
        "colab": {
          "base_uri": "https://localhost:8080/"
        },
        "id": "QNU6dK52LBX0",
        "outputId": "d22cdcb4-2a57-49dd-e5eb-02db86ee2469"
      },
      "execution_count": 127,
      "outputs": [
        {
          "output_type": "stream",
          "name": "stdout",
          "text": [
            "defaultdict(<class 'float'>, {0: 30.166206257996713, 1: 43.139309220245984, 2: 39.44616584663204, 3: 200.86811593680068, 4: 65.43699259593154, 5: 57.74945887192364, 6: 89.0, 7: 63.387695966961914, 8: 37.33630940518894, 9: 52.3354564325181, 10: 60.37383539249432, 11: 44.799553569204235, 12: 44.21538193886829, 13: 54.56189146281496, 14: 37.97367509209505, 15: 35.4259791678367, 16: 38.63935817272331, 17: 53.36665625650534, 18: 37.282703764614496, 19: 30.740852297878796, 20: 46.52956049652737, 21: 51.884487084291386, 22: 38.17066936798463, 23: 51.01960407529639, 24: 41.376321731154405, 25: 53.0, 26: 53.53503525729669, 27: 43.76071297408213, 28: 44.76605857119878, 29: 31.85906464414798, 30: 46.04345773288535, 31: 44.76605857119878, 32: 41.376321731154405, 33: 34.51086785347479, 34: 34.02939905434711, 35: 36.72873534441391, 36: 40.70626487409524, 37: 29.34280150224242, 38: 28.861739379323623, 39: 29.189039038652847, 40: 28.513154858766505})\n",
            "None\n",
            "None\n",
            "defaultdict(<class 'float'>, {0: 30.166206257996713, 1: 43.139309220245984, 2: 39.44616584663204, 3: 200.86811593680068, 4: 65.43699259593154, 5: 57.74945887192364, 6: 89.0, 7: 63.387695966961914, 8: 37.33630940518894, 9: 52.3354564325181, 10: 60.37383539249432, 11: 44.799553569204235, 12: 44.21538193886829, 13: 54.56189146281496, 14: 37.97367509209505, 15: 35.4259791678367, 16: 38.63935817272331, 17: 53.36665625650534, 18: 37.282703764614496, 19: 30.740852297878796, 20: 46.52956049652737, 21: 51.884487084291386, 22: 38.17066936798463, 23: 51.01960407529639, 24: 41.376321731154405, 25: 53.0, 26: 53.53503525729669, 27: 43.76071297408213, 28: 44.76605857119878, 29: 31.85906464414798, 30: 46.04345773288535, 31: 44.76605857119878, 32: 41.376321731154405, 33: 34.51086785347479, 34: 34.02939905434711, 35: 36.72873534441391, 36: 40.70626487409524, 37: 29.34280150224242, 38: 28.861739379323623, 39: 29.189039038652847, 40: 28.513154858766505})\n",
            "None\n"
          ]
        }
      ]
    }
  ]
}